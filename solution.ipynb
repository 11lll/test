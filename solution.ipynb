{
 "cells": [
  {
   "cell_type": "code",
   "execution_count": 1,
   "id": "4d2bc1c5",
   "metadata": {},
   "outputs": [],
   "source": [
    "import pandas as pd\n",
    "from datetime import datetime\n",
    "import dateutil"
   ]
  },
  {
   "cell_type": "code",
   "execution_count": 2,
   "id": "e165c49b",
   "metadata": {},
   "outputs": [
    {
     "data": {
      "text/html": [
       "<div>\n",
       "<style scoped>\n",
       "    .dataframe tbody tr th:only-of-type {\n",
       "        vertical-align: middle;\n",
       "    }\n",
       "\n",
       "    .dataframe tbody tr th {\n",
       "        vertical-align: top;\n",
       "    }\n",
       "\n",
       "    .dataframe thead th {\n",
       "        text-align: right;\n",
       "    }\n",
       "</style>\n",
       "<table border=\"1\" class=\"dataframe\">\n",
       "  <thead>\n",
       "    <tr style=\"text-align: right;\">\n",
       "      <th></th>\n",
       "      <th>timestamp</th>\n",
       "      <th>user_id</th>\n",
       "      <th>event</th>\n",
       "      <th>flyer_id</th>\n",
       "      <th>merchant_id</th>\n",
       "    </tr>\n",
       "  </thead>\n",
       "  <tbody>\n",
       "    <tr>\n",
       "      <th>13048</th>\n",
       "      <td>2018-10-01 00:01:06-04:00</td>\n",
       "      <td>0307f16bb87891bef7a537ebb04b24ba9ed4514cf4e7ef...</td>\n",
       "      <td>flyer_open</td>\n",
       "      <td>1995315</td>\n",
       "      <td>2609</td>\n",
       "    </tr>\n",
       "    <tr>\n",
       "      <th>13054</th>\n",
       "      <td>2018-10-01 00:01:06-04:00</td>\n",
       "      <td>26f10bb26320cb3e9338a9d1a9eb74339300e5e149233c...</td>\n",
       "      <td>flyer_open</td>\n",
       "      <td>1990045</td>\n",
       "      <td>249</td>\n",
       "    </tr>\n",
       "    <tr>\n",
       "      <th>13049</th>\n",
       "      <td>2018-10-01 00:01:16-04:00</td>\n",
       "      <td>0307f16bb87891bef7a537ebb04b24ba9ed4514cf4e7ef...</td>\n",
       "      <td>flyer_open</td>\n",
       "      <td>1960380</td>\n",
       "      <td>2484</td>\n",
       "    </tr>\n",
       "    <tr>\n",
       "      <th>11796</th>\n",
       "      <td>2018-10-01 00:02:08-04:00</td>\n",
       "      <td>b38f97880ccb69e8f89201eedbccc149a9ea914ca86111...</td>\n",
       "      <td>item_open</td>\n",
       "      <td>1960380</td>\n",
       "      <td>2484</td>\n",
       "    </tr>\n",
       "    <tr>\n",
       "      <th>11781</th>\n",
       "      <td>2018-10-01 00:03:43-04:00</td>\n",
       "      <td>b38f97880ccb69e8f89201eedbccc149a9ea914ca86111...</td>\n",
       "      <td>flyer_open</td>\n",
       "      <td>2005556</td>\n",
       "      <td>3048</td>\n",
       "    </tr>\n",
       "  </tbody>\n",
       "</table>\n",
       "</div>"
      ],
      "text/plain": [
       "                      timestamp  \\\n",
       "13048 2018-10-01 00:01:06-04:00   \n",
       "13054 2018-10-01 00:01:06-04:00   \n",
       "13049 2018-10-01 00:01:16-04:00   \n",
       "11796 2018-10-01 00:02:08-04:00   \n",
       "11781 2018-10-01 00:03:43-04:00   \n",
       "\n",
       "                                                 user_id       event flyer_id  \\\n",
       "13048  0307f16bb87891bef7a537ebb04b24ba9ed4514cf4e7ef...  flyer_open  1995315   \n",
       "13054  26f10bb26320cb3e9338a9d1a9eb74339300e5e149233c...  flyer_open  1990045   \n",
       "13049  0307f16bb87891bef7a537ebb04b24ba9ed4514cf4e7ef...  flyer_open  1960380   \n",
       "11796  b38f97880ccb69e8f89201eedbccc149a9ea914ca86111...   item_open  1960380   \n",
       "11781  b38f97880ccb69e8f89201eedbccc149a9ea914ca86111...  flyer_open  2005556   \n",
       "\n",
       "      merchant_id  \n",
       "13048        2609  \n",
       "13054         249  \n",
       "13049        2484  \n",
       "11796        2484  \n",
       "11781        3048  "
      ]
     },
     "execution_count": 2,
     "metadata": {},
     "output_type": "execute_result"
    }
   ],
   "source": [
    "dataset = pd.read_csv(\"Task-dataset.csv\")\n",
    "dataset[\"timestamp\"] = dataset[\"timestamp\"].map(lambda x: dateutil.parser.parse(x, dayfirst=False))\n",
    "dataset = dataset.sort_values(by=[\"timestamp\"])\n",
    "dataset.head()"
   ]
  },
  {
   "cell_type": "markdown",
   "id": "5023ae18",
   "metadata": {},
   "source": [
    "## Choosing the right assumption\n",
    "\n",
    "- only the \"flyer_open\" event closes the previous flyer.\n",
    "- every new event closes the pervious flyer."
   ]
  },
  {
   "cell_type": "code",
   "execution_count": 3,
   "id": "b5c84266",
   "metadata": {},
   "outputs": [],
   "source": [
    "EVERY_EVENT_CLOSES_PREVIOUS_FLYER = True"
   ]
  },
  {
   "cell_type": "markdown",
   "id": "e7d8bee2",
   "metadata": {},
   "source": [
    "## Counting time users spent on flyers\n",
    "\n",
    "\n",
    "Create new df with only flyer_open"
   ]
  },
  {
   "cell_type": "code",
   "execution_count": 4,
   "id": "370b4275",
   "metadata": {},
   "outputs": [
    {
     "data": {
      "text/html": [
       "<div>\n",
       "<style scoped>\n",
       "    .dataframe tbody tr th:only-of-type {\n",
       "        vertical-align: middle;\n",
       "    }\n",
       "\n",
       "    .dataframe tbody tr th {\n",
       "        vertical-align: top;\n",
       "    }\n",
       "\n",
       "    .dataframe thead th {\n",
       "        text-align: right;\n",
       "    }\n",
       "</style>\n",
       "<table border=\"1\" class=\"dataframe\">\n",
       "  <thead>\n",
       "    <tr style=\"text-align: right;\">\n",
       "      <th></th>\n",
       "      <th>timestamp</th>\n",
       "      <th>user_id</th>\n",
       "      <th>event</th>\n",
       "      <th>flyer_id</th>\n",
       "      <th>merchant_id</th>\n",
       "    </tr>\n",
       "  </thead>\n",
       "  <tbody>\n",
       "    <tr>\n",
       "      <th>13048</th>\n",
       "      <td>2018-10-01 00:01:06-04:00</td>\n",
       "      <td>0307f16bb87891bef7a537ebb04b24ba9ed4514cf4e7ef...</td>\n",
       "      <td>flyer_open</td>\n",
       "      <td>1995315</td>\n",
       "      <td>2609</td>\n",
       "    </tr>\n",
       "    <tr>\n",
       "      <th>13054</th>\n",
       "      <td>2018-10-01 00:01:06-04:00</td>\n",
       "      <td>26f10bb26320cb3e9338a9d1a9eb74339300e5e149233c...</td>\n",
       "      <td>flyer_open</td>\n",
       "      <td>1990045</td>\n",
       "      <td>249</td>\n",
       "    </tr>\n",
       "    <tr>\n",
       "      <th>13049</th>\n",
       "      <td>2018-10-01 00:01:16-04:00</td>\n",
       "      <td>0307f16bb87891bef7a537ebb04b24ba9ed4514cf4e7ef...</td>\n",
       "      <td>flyer_open</td>\n",
       "      <td>1960380</td>\n",
       "      <td>2484</td>\n",
       "    </tr>\n",
       "    <tr>\n",
       "      <th>11796</th>\n",
       "      <td>2018-10-01 00:02:08-04:00</td>\n",
       "      <td>b38f97880ccb69e8f89201eedbccc149a9ea914ca86111...</td>\n",
       "      <td>item_open</td>\n",
       "      <td>1960380</td>\n",
       "      <td>2484</td>\n",
       "    </tr>\n",
       "    <tr>\n",
       "      <th>11781</th>\n",
       "      <td>2018-10-01 00:03:43-04:00</td>\n",
       "      <td>b38f97880ccb69e8f89201eedbccc149a9ea914ca86111...</td>\n",
       "      <td>flyer_open</td>\n",
       "      <td>2005556</td>\n",
       "      <td>3048</td>\n",
       "    </tr>\n",
       "  </tbody>\n",
       "</table>\n",
       "</div>"
      ],
      "text/plain": [
       "                      timestamp  \\\n",
       "13048 2018-10-01 00:01:06-04:00   \n",
       "13054 2018-10-01 00:01:06-04:00   \n",
       "13049 2018-10-01 00:01:16-04:00   \n",
       "11796 2018-10-01 00:02:08-04:00   \n",
       "11781 2018-10-01 00:03:43-04:00   \n",
       "\n",
       "                                                 user_id       event flyer_id  \\\n",
       "13048  0307f16bb87891bef7a537ebb04b24ba9ed4514cf4e7ef...  flyer_open  1995315   \n",
       "13054  26f10bb26320cb3e9338a9d1a9eb74339300e5e149233c...  flyer_open  1990045   \n",
       "13049  0307f16bb87891bef7a537ebb04b24ba9ed4514cf4e7ef...  flyer_open  1960380   \n",
       "11796  b38f97880ccb69e8f89201eedbccc149a9ea914ca86111...   item_open  1960380   \n",
       "11781  b38f97880ccb69e8f89201eedbccc149a9ea914ca86111...  flyer_open  2005556   \n",
       "\n",
       "      merchant_id  \n",
       "13048        2609  \n",
       "13054         249  \n",
       "13049        2484  \n",
       "11796        2484  \n",
       "11781        3048  "
      ]
     },
     "execution_count": 4,
     "metadata": {},
     "output_type": "execute_result"
    }
   ],
   "source": [
    "if not EVERY_EVENT_CLOSES_PREVIOUS_FLYER:\n",
    "    dataset = dataset[dataset[\"event\"] == \"flyer_open\"]\n",
    "dataset.head()"
   ]
  },
  {
   "cell_type": "code",
   "execution_count": 5,
   "id": "3c6187aa",
   "metadata": {},
   "outputs": [],
   "source": [
    "def count_time_spent_when_open_flyer_closes(group_entries):\n",
    "    result = []\n",
    "    \n",
    "    previous_opened_flyer = None\n",
    "    previous_opened_time = None\n",
    "    previous_opened_merchant = None\n",
    "    \n",
    "    for entry in group_entries:\n",
    "        if previous_opened_flyer is not None: #user never opend a flyer\n",
    "            time_spent = int((entry[0] - previous_opened_time).seconds) #returns float =\n",
    "            result.append([time_spent, previous_opened_time, entry[0], entry[1], previous_opened_flyer, previous_opened_merchant])\n",
    "            \n",
    "        previous_opened_flyer = entry[3]\n",
    "        previous_opened_time = entry[0]\n",
    "        previous_opened_merchant = entry[4]\n",
    "\n",
    "    return result  "
   ]
  },
  {
   "cell_type": "code",
   "execution_count": 6,
   "id": "df62df20",
   "metadata": {},
   "outputs": [],
   "source": [
    "def count_time_spent_when_every_event_closes(group_entries):\n",
    "    result = []\n",
    "    \n",
    "    previous_opened_flyer = None\n",
    "    previous_opened_time = None\n",
    "    previous_opened_merchant = None\n",
    "    \n",
    "    for entry in group_entries:\n",
    "        if entry[2] == \"flyer_open\": # counter starts when flyer_open event happens & same code as above is triggered\n",
    "            if previous_opened_flyer is not None:\n",
    "                time_spent = int((entry[0] - previous_opened_time).seconds)\n",
    "                result.append([time_spent, previous_opened_time, entry[0], entry[1], previous_opened_flyer, previous_opened_merchant])\n",
    "\n",
    "            previous_opened_flyer = entry[3]\n",
    "            previous_opened_time = entry[0]\n",
    "            previous_opened_merchant = entry[4]\n",
    "        else:\n",
    "            if previous_opened_flyer is not None:\n",
    "                time_spent = int((entry[0] - previous_opened_time).seconds)\n",
    "                result.append([time_spent, previous_opened_time, entry[0], entry[1], previous_opened_flyer, previous_opened_merchant])\n",
    "                previous_opened_flyer = None # any event closes the flyer\n",
    "\n",
    "    return result  "
   ]
  },
  {
   "cell_type": "code",
   "execution_count": 7,
   "id": "ea368786",
   "metadata": {},
   "outputs": [
    {
     "data": {
      "text/html": [
       "<div>\n",
       "<style scoped>\n",
       "    .dataframe tbody tr th:only-of-type {\n",
       "        vertical-align: middle;\n",
       "    }\n",
       "\n",
       "    .dataframe tbody tr th {\n",
       "        vertical-align: top;\n",
       "    }\n",
       "\n",
       "    .dataframe thead th {\n",
       "        text-align: right;\n",
       "    }\n",
       "</style>\n",
       "<table border=\"1\" class=\"dataframe\">\n",
       "  <thead>\n",
       "    <tr style=\"text-align: right;\">\n",
       "      <th></th>\n",
       "      <th>seconds_spent</th>\n",
       "      <th>from_timestamp</th>\n",
       "      <th>end_timestamp</th>\n",
       "      <th>user_id</th>\n",
       "      <th>flyer_id</th>\n",
       "      <th>merchant_id</th>\n",
       "    </tr>\n",
       "  </thead>\n",
       "  <tbody>\n",
       "    <tr>\n",
       "      <th>0</th>\n",
       "      <td>41</td>\n",
       "      <td>2018-10-01 11:34:20-04:00</td>\n",
       "      <td>2018-10-01 11:35:01-04:00</td>\n",
       "      <td>0017345b89958a1d8cae79020dbbf6e2f687124ae8bf93...</td>\n",
       "      <td>2000818</td>\n",
       "      <td>2428</td>\n",
       "    </tr>\n",
       "    <tr>\n",
       "      <th>1</th>\n",
       "      <td>1</td>\n",
       "      <td>2018-10-01 11:36:04-04:00</td>\n",
       "      <td>2018-10-01 11:36:05-04:00</td>\n",
       "      <td>0017345b89958a1d8cae79020dbbf6e2f687124ae8bf93...</td>\n",
       "      <td>1994646</td>\n",
       "      <td>2608</td>\n",
       "    </tr>\n",
       "    <tr>\n",
       "      <th>2</th>\n",
       "      <td>0</td>\n",
       "      <td>2018-10-01 11:36:05-04:00</td>\n",
       "      <td>2018-10-01 11:36:05-04:00</td>\n",
       "      <td>0017345b89958a1d8cae79020dbbf6e2f687124ae8bf93...</td>\n",
       "      <td>2008626</td>\n",
       "      <td>2353</td>\n",
       "    </tr>\n",
       "    <tr>\n",
       "      <th>3</th>\n",
       "      <td>19</td>\n",
       "      <td>2018-10-01 11:36:06-04:00</td>\n",
       "      <td>2018-10-01 11:36:25-04:00</td>\n",
       "      <td>0017345b89958a1d8cae79020dbbf6e2f687124ae8bf93...</td>\n",
       "      <td>2016311</td>\n",
       "      <td>2268</td>\n",
       "    </tr>\n",
       "    <tr>\n",
       "      <th>4</th>\n",
       "      <td>1</td>\n",
       "      <td>2018-10-01 11:36:25-04:00</td>\n",
       "      <td>2018-10-01 11:36:26-04:00</td>\n",
       "      <td>0017345b89958a1d8cae79020dbbf6e2f687124ae8bf93...</td>\n",
       "      <td>1994508</td>\n",
       "      <td>986</td>\n",
       "    </tr>\n",
       "  </tbody>\n",
       "</table>\n",
       "</div>"
      ],
      "text/plain": [
       "   seconds_spent            from_timestamp             end_timestamp  \\\n",
       "0             41 2018-10-01 11:34:20-04:00 2018-10-01 11:35:01-04:00   \n",
       "1              1 2018-10-01 11:36:04-04:00 2018-10-01 11:36:05-04:00   \n",
       "2              0 2018-10-01 11:36:05-04:00 2018-10-01 11:36:05-04:00   \n",
       "3             19 2018-10-01 11:36:06-04:00 2018-10-01 11:36:25-04:00   \n",
       "4              1 2018-10-01 11:36:25-04:00 2018-10-01 11:36:26-04:00   \n",
       "\n",
       "                                             user_id flyer_id merchant_id  \n",
       "0  0017345b89958a1d8cae79020dbbf6e2f687124ae8bf93...  2000818        2428  \n",
       "1  0017345b89958a1d8cae79020dbbf6e2f687124ae8bf93...  1994646        2608  \n",
       "2  0017345b89958a1d8cae79020dbbf6e2f687124ae8bf93...  2008626        2353  \n",
       "3  0017345b89958a1d8cae79020dbbf6e2f687124ae8bf93...  2016311        2268  \n",
       "4  0017345b89958a1d8cae79020dbbf6e2f687124ae8bf93...  1994508         986  "
      ]
     },
     "execution_count": 7,
     "metadata": {},
     "output_type": "execute_result"
    }
   ],
   "source": [
    "new_values = [] # list\n",
    "for name, group in dataset.groupby(\"user_id\"):\n",
    "    if EVERY_EVENT_CLOSES_PREVIOUS_FLYER:\n",
    "        new_values += count_time_spent_when_every_event_closes(group.values)\n",
    "    else:\n",
    "        new_values += count_time_spent_when_open_flyer_closes(group.values)\n",
    "        \n",
    "# new df created from the grouped list that was a result of the function\n",
    "new_dataframe = pd.DataFrame(new_values, columns=[\"seconds_spent\", \"from_timestamp\", \"end_timestamp\", \"user_id\", \"flyer_id\", \"merchant_id\"]) \n",
    "new_dataframe.head()"
   ]
  },
  {
   "cell_type": "markdown",
   "id": "09ff37af",
   "metadata": {},
   "source": [
    "## Task 1\n",
    "\n",
    "Compute the unique users in the dataset.\n"
   ]
  },
  {
   "cell_type": "code",
   "execution_count": 8,
   "id": "5e5f30d9",
   "metadata": {},
   "outputs": [
    {
     "name": "stdout",
     "output_type": "stream",
     "text": [
      "Found 1190 unique users in the dataframe\n",
      "Found 1057 unique users in the dataframe who had at least 2 entries\n"
     ]
    }
   ],
   "source": [
    "unique_users_start = dataset[\"user_id\"].nunique()\n",
    "unique_users_processed = new_dataframe[\"user_id\"].nunique()\n",
    "\n",
    "print(f\"Found {unique_users_start} unique users in the dataframe\")\n",
    "print(f\"Found {unique_users_processed} unique users in the dataframe who had at least 2 entries\") # at least 1 flyer_open opened and closed it"
   ]
  },
  {
   "cell_type": "markdown",
   "id": "e50174a4",
   "metadata": {},
   "source": [
    "## Task 2\n",
    "\n",
    "Compute the average time on flyer per user."
   ]
  },
  {
   "cell_type": "code",
   "execution_count": 9,
   "id": "89c58f8d",
   "metadata": {},
   "outputs": [
    {
     "name": "stdout",
     "output_type": "stream",
     "text": [
      "Counted 1637 unique flyers\n",
      "Average time per user spent on a flyer is 1847.08 seconds\n"
     ]
    }
   ],
   "source": [
    "avg_time = new_dataframe.groupby(\"flyer_id\").apply(lambda x: sum(x[\"seconds_spent\"] / len(x))).to_dict() # x is a row ; len(x)\n",
    "print(f\"Counted {len(avg_time)} unique flyers\")\n",
    "print(f\"Average time per user spent on a flyer is {sum(avg_time.values()) / len(avg_time):.2f} seconds\")"
   ]
  },
  {
   "cell_type": "markdown",
   "id": "04ab2c62",
   "metadata": {},
   "source": [
    "2nd interpretation of Task 2"
   ]
  },
  {
   "cell_type": "code",
   "execution_count": 10,
   "id": "e88cb8a5",
   "metadata": {},
   "outputs": [],
   "source": [
    "avg_time_by_user = new_dataframe.groupby(\"user_id\").apply(function).reset_index()\n",
    "avg_time_by_user.columns = [\"user_id\", \"average_time_spent\"]\n",
    "avg_time_by_user.head()"
   ]
  },
  {
   "cell_type": "code",
   "execution_count": 11,
   "id": "1a1510f5",
   "metadata": {},
   "outputs": [
    {
     "data": {
      "text/html": [
       "<div>\n",
       "<style scoped>\n",
       "    .dataframe tbody tr th:only-of-type {\n",
       "        vertical-align: middle;\n",
       "    }\n",
       "\n",
       "    .dataframe tbody tr th {\n",
       "        vertical-align: top;\n",
       "    }\n",
       "\n",
       "    .dataframe thead th {\n",
       "        text-align: right;\n",
       "    }\n",
       "</style>\n",
       "<table border=\"1\" class=\"dataframe\">\n",
       "  <thead>\n",
       "    <tr style=\"text-align: right;\">\n",
       "      <th></th>\n",
       "      <th>user_id</th>\n",
       "      <th>average_time_spent</th>\n",
       "    </tr>\n",
       "  </thead>\n",
       "  <tbody>\n",
       "    <tr>\n",
       "      <th>0</th>\n",
       "      <td>0017345b89958a1d8cae79020dbbf6e2f687124ae8bf93...</td>\n",
       "      <td>64.15</td>\n",
       "    </tr>\n",
       "    <tr>\n",
       "      <th>1</th>\n",
       "      <td>002c17c9db976a1cad3516033b5023c5e11eff08fdbcb1...</td>\n",
       "      <td>2809.50</td>\n",
       "    </tr>\n",
       "    <tr>\n",
       "      <th>2</th>\n",
       "      <td>00a52eb26d5b84881fea69429e91d2e7e7cb1004db83f8...</td>\n",
       "      <td>554.00</td>\n",
       "    </tr>\n",
       "    <tr>\n",
       "      <th>3</th>\n",
       "      <td>00d6164ad0d97a07a8ff2fbc6e10352736e4a8c02be283...</td>\n",
       "      <td>63.00</td>\n",
       "    </tr>\n",
       "    <tr>\n",
       "      <th>4</th>\n",
       "      <td>00dbcd0f49522e8614a0e363293b2a371f4083919b5d27...</td>\n",
       "      <td>43408.00</td>\n",
       "    </tr>\n",
       "  </tbody>\n",
       "</table>\n",
       "</div>"
      ],
      "text/plain": [
       "                                             user_id  average_time_spent\n",
       "0  0017345b89958a1d8cae79020dbbf6e2f687124ae8bf93...               64.15\n",
       "1  002c17c9db976a1cad3516033b5023c5e11eff08fdbcb1...             2809.50\n",
       "2  00a52eb26d5b84881fea69429e91d2e7e7cb1004db83f8...              554.00\n",
       "3  00d6164ad0d97a07a8ff2fbc6e10352736e4a8c02be283...               63.00\n",
       "4  00dbcd0f49522e8614a0e363293b2a371f4083919b5d27...            43408.00"
      ]
     },
     "execution_count": 11,
     "metadata": {},
     "output_type": "execute_result"
    }
   ],
   "source": [
    "avg_time_by_user = new_dataframe.groupby(\"user_id\").apply(function).reset_index()\n",
    "avg_time_by_user.columns = [\"user_id\", \"average_time_spent\"]\n",
    "avg_time_by_user.head()"
   ]
  },
  {
   "cell_type": "markdown",
   "id": "b2d7cc6d",
   "metadata": {},
   "source": [
    "## Task 3\n",
    "\n",
    "Compute the average time users spent on flyer_id = 2020004"
   ]
  },
  {
   "cell_type": "code",
   "execution_count": 12,
   "id": "15023580",
   "metadata": {},
   "outputs": [
    {
     "name": "stdout",
     "output_type": "stream",
     "text": [
      "Users spent 1568.06 seconds on average viewing flyer with id = 2020004\n"
     ]
    }
   ],
   "source": [
    "flyer_to_check = \"2020004\"\n",
    "print(f\"Users spent {avg_time.get(flyer_to_check, 0):.2f} seconds on average viewing flyer with id = {flyer_to_check}\")"
   ]
  },
  {
   "cell_type": "markdown",
   "id": "f0f62e35",
   "metadata": {},
   "source": [
    "## Task 4\n",
    "\n",
    "Explain how your algorithm scales for:\n",
    "\n",
    "a) 1 Million Events (~10 MB of data)\n",
    "\n",
    "b) 1 Trillion Events (~10 TB of data) "
   ]
  },
  {
   "cell_type": "markdown",
   "id": "1ce172e4",
   "metadata": {},
   "source": [
    "**Answer**\n",
    "\n",
    "Algorithm needs:\n",
    "\n",
    "- Sorting timestamps ~O(N logN)\n",
    "- grouping users ~O(N LogN)\n",
    "- iteration on every entry ~O(N)\n",
    "\n",
    "Algorithm scalability is almost linear. difficulty is ~O(N LogN)\n",
    "\n",
    "If datasets get very big we could improve the script by parallelizing some of the tasks."
   ]
  },
  {
   "cell_type": "code",
   "execution_count": null,
   "id": "b99b8dca",
   "metadata": {},
   "outputs": [],
   "source": []
  }
 ],
 "metadata": {
  "interpreter": {
   "hash": "369f2c481f4da34e4445cda3fffd2e751bd1c4d706f27375911949ba6bb62e1c"
  },
  "kernelspec": {
   "display_name": "Python 3.10.0 64-bit",
   "language": "python",
   "name": "python3"
  },
  "language_info": {
   "codemirror_mode": {
    "name": "ipython",
    "version": 3
   },
   "file_extension": ".py",
   "mimetype": "text/x-python",
   "name": "python",
   "nbconvert_exporter": "python",
   "pygments_lexer": "ipython3",
   "version": "3.10.0"
  }
 },
 "nbformat": 4,
 "nbformat_minor": 5
}
